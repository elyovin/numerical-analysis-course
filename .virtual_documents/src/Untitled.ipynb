%load_ext autoreload
%autoreload 2

from square_root_algorithm import task


type((1,))


task()
